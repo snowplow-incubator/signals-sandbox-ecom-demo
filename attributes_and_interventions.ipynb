{
 "cells": [
  {
   "cell_type": "markdown",
   "metadata": {},
   "source": [
    "## Define Signals Attributes and Interventions on Signals Sandbox\n",
    "\n",
    "This notebook walks you through defining a set of attributes and interventions on top of the attributes that can be tested along with the Signals Sandbox trial.\n",
    "\n",
    "Related resources:\n",
    "\n",
    "1. Signals Sandbox: https://try-signals.snowplow.io/\n",
    "2. Tutorial for Signals Sandbox: https://docs.snowplow.io/tutorials/signals-sandbox/start/\n",
    "3. Demo app that consumes the interventions defined here and can connect to your Sandbox instance: https://snowplow-incubator.github.io/signals-sandbox-ecom-demo/"
   ]
  },
  {
   "cell_type": "markdown",
   "metadata": {},
   "source": [
    "### Connect to the Sandbox\n",
    "\n",
    "The below block reads the `SP_API_URL` and `SP_SANDBOX_TOKEN` variables either from the environment or from user data on Google Colab to set up the Snowplow Signals SDK so that it can connec to your Sandbox instance."
   ]
  },
  {
   "cell_type": "code",
   "execution_count": null,
   "metadata": {},
   "outputs": [],
   "source": [
    "try:\n",
    "    from google.colab import userdata\n",
    "\n",
    "    ENV_SP_API_URL = userdata.get('SP_API_URL')\n",
    "    ENV_SP_SANDBOX_TOKEN = userdata.get('SP_SANDBOX_TOKEN')\n",
    "except ImportError:\n",
    "    import os\n",
    "    from dotenv import load_dotenv\n",
    "    \n",
    "    load_dotenv()\n",
    "\n",
    "    ENV_SP_API_URL = os.environ.get('SP_API_URL')\n",
    "    ENV_SP_SANDBOX_TOKEN = os.environ.get('SP_SANDBOX_TOKEN')"
   ]
  },
  {
   "cell_type": "code",
   "execution_count": null,
   "metadata": {},
   "outputs": [],
   "source": [
    "from snowplow_signals import SignalsSandbox\n",
    "\n",
    "sp_signals = SignalsSandbox(\n",
    "    api_url=ENV_SP_API_URL,\n",
    "    sandbox_token=ENV_SP_SANDBOX_TOKEN,\n",
    ")"
   ]
  },
  {
   "cell_type": "markdown",
   "metadata": {},
   "source": [
    "### Define a new attribute\n",
    "\n",
    "This block creates definitions for attributes that are calculated on top of the Snowplow ecommerce events."
   ]
  },
  {
   "cell_type": "code",
   "execution_count": null,
   "metadata": {},
   "outputs": [],
   "source": [
    "from snowplow_signals import (\n",
    "    Attribute,\n",
    "    Event,\n",
    "    Criterion,\n",
    "    Criteria,\n",
    "    EventProperty,\n",
    "    EntityProperty,\n",
    ")\n",
    "\n",
    "count_product_views = Attribute(\n",
    "    name=\"count_product_views\",\n",
    "    type=\"int32\",\n",
    "    events=[Event(name=\"snowplow_ecommerce_action\")],\n",
    "    criteria=Criteria(\n",
    "        all=[\n",
    "            Criterion.eq(\n",
    "                property=EventProperty(\n",
    "                    vendor=\"com.snowplowanalytics.snowplow.ecommerce\",\n",
    "                    name=\"snowplow_ecommerce_action\",\n",
    "                    major_version=1,\n",
    "                    path=\"type\",\n",
    "                ),\n",
    "                value=\"product_view\",\n",
    "            )\n",
    "        ]\n",
    "    ),\n",
    "    aggregation=\"counter\",\n",
    ")\n",
    "\n",
    "count_add_to_cart = Attribute(\n",
    "    name=\"count_add_to_cart\",\n",
    "    type=\"int32\",\n",
    "    events=[Event(name=\"snowplow_ecommerce_action\")],\n",
    "    criteria=Criteria(\n",
    "        all=[\n",
    "            Criterion.eq(\n",
    "                property=EventProperty(\n",
    "                    vendor=\"com.snowplowanalytics.snowplow.ecommerce\",\n",
    "                    name=\"snowplow_ecommerce_action\",\n",
    "                    major_version=1,\n",
    "                    path=\"type\",\n",
    "                ),\n",
    "                value=\"add_to_cart\",\n",
    "            )\n",
    "        ]\n",
    "    ),\n",
    "    aggregation=\"counter\",\n",
    ")\n",
    "\n",
    "total_cart_value = Attribute(\n",
    "    name=\"total_cart_value\",\n",
    "    type=\"double\",\n",
    "    events=[Event(name=\"snowplow_ecommerce_action\")],\n",
    "    criteria=Criteria(\n",
    "        all=[\n",
    "            Criterion.eq(\n",
    "                property=EventProperty(\n",
    "                    vendor=\"com.snowplowanalytics.snowplow.ecommerce\",\n",
    "                    name=\"snowplow_ecommerce_action\",\n",
    "                    major_version=1,\n",
    "                    path=\"type\",\n",
    "                ),\n",
    "                value=\"add_to_cart\",\n",
    "            )\n",
    "        ]\n",
    "    ),\n",
    "    property=EntityProperty(\n",
    "        vendor=\"com.snowplowanalytics.snowplow.ecommerce\",\n",
    "        name=\"product\",\n",
    "        major_version=1,\n",
    "        path=\"price\",\n",
    "    ),\n",
    "    aggregation=\"sum\",\n",
    ")"
   ]
  },
  {
   "cell_type": "markdown",
   "metadata": {},
   "source": [
    "### Wrapping the attribute in a group\n",
    "\n",
    "All attributes need to be included in attribute groups that can be considered as \"tables\" of attributes.\n",
    "\n",
    "Attribute groups are immutable and versioned."
   ]
  },
  {
   "cell_type": "code",
   "execution_count": null,
   "metadata": {},
   "outputs": [],
   "source": [
    "from snowplow_signals import StreamAttributeGroup, domain_userid\n",
    "\n",
    "attribute_group = StreamAttributeGroup(\n",
    "    name=\"ecom_attributes\",\n",
    "    version=1,\n",
    "    attribute_key=domain_userid,\n",
    "    attributes=[\n",
    "        count_product_views,\n",
    "        count_add_to_cart,\n",
    "        total_cart_value,\n",
    "    ],\n",
    "    owner=\"user@company.com\",\n",
    ")"
   ]
  },
  {
   "cell_type": "markdown",
   "metadata": {},
   "source": [
    "### Create a service for the attribute group\n",
    "\n",
    "A service provides an interface for consuming apps to retrieve the attribute values."
   ]
  },
  {
   "cell_type": "code",
   "execution_count": null,
   "metadata": {},
   "outputs": [],
   "source": [
    "from snowplow_signals import Service\n",
    "\n",
    "stream_service = Service(\n",
    "    name=\"ecom_attributes\",\n",
    "    attribute_groups=[attribute_group],\n",
    "    owner=\"user@company.com\",\n",
    ")"
   ]
  },
  {
   "cell_type": "markdown",
   "metadata": {},
   "source": [
    "### Publish the attribute group and service\n",
    "\n",
    "Pulbish the attribute group and service to start processing it."
   ]
  },
  {
   "cell_type": "code",
   "execution_count": null,
   "metadata": {},
   "outputs": [],
   "source": [
    "sp_signals.publish([attribute_group, stream_service])"
   ]
  },
  {
   "cell_type": "markdown",
   "metadata": {},
   "source": [
    "### Retrieve attributes for the service\n",
    "\n",
    "The below snippet allows you to retrieve attributes calculated for a given domain_userid. If you haven't tracked any events with that identifier, it will return `None` for the attribute values."
   ]
  },
  {
   "cell_type": "code",
   "execution_count": null,
   "metadata": {},
   "outputs": [],
   "source": [
    "stream_service.get_attributes(\n",
    "    signals=sp_signals,\n",
    "    attribute_key=\"domain_userid\",\n",
    "    identifier=\"790786f6-f250-4cf0-8bca-5f1b52c4b97f\",\n",
    ")"
   ]
  },
  {
   "cell_type": "markdown",
   "metadata": {},
   "source": [
    "### Create interventions\n",
    "\n",
    "Interventions are rules that trigger when user attributes meet specific criteria. They enable real-time personalization by activating experiences based on current behavior. They are pushed to the client through a SSE (server-sent events) connection."
   ]
  },
  {
   "cell_type": "code",
   "execution_count": null,
   "metadata": {},
   "outputs": [],
   "source": [
    "from snowplow_signals import (\n",
    "    RuleIntervention,\n",
    "    InterventionCriterion,\n",
    "    LinkAttributeKey\n",
    ")\n",
    "\n",
    "cart_abandonment_intervention = RuleIntervention(\n",
    "    name=\"cart_abandonment\",\n",
    "    description=\"Show banner to users who have added at least one item to cart.\",\n",
    "    criteria=InterventionCriterion(\n",
    "        attribute=\"ecom_attributes:count_add_to_cart\",\n",
    "        operator=\">\",\n",
    "        value=0,\n",
    "    ),\n",
    "    target_attribute_keys=[\n",
    "        LinkAttributeKey(name=\"user_id\"),\n",
    "        LinkAttributeKey(name=\"domain_userid\"),\n",
    "    ],\n",
    "    owner=\"user@company.com\",\n",
    ")\n",
    "\n",
    "discount_intervention = RuleIntervention(\n",
    "    name=\"discount\",\n",
    "    description=\"Show banner to users who have viewed more than 3 products.\",\n",
    "    criteria=InterventionCriterion(\n",
    "        attribute=\"ecom_attributes:count_product_views\",\n",
    "        operator=\">\",\n",
    "        value=3,\n",
    "    ),\n",
    "    target_attribute_keys=[\n",
    "        LinkAttributeKey(name=\"user_id\"),\n",
    "        LinkAttributeKey(name=\"domain_userid\"),\n",
    "    ],\n",
    "    owner=\"user@company.com\",\n",
    ")\n",
    "\n",
    "free_shipping_intervention = RuleIntervention(\n",
    "    name=\"free_shipping\",\n",
    "    description=\"Show banner to users who have spent at least $50.\",\n",
    "    criteria=InterventionCriterion(\n",
    "        attribute=\"ecom_attributes:total_cart_value\",\n",
    "        operator=\">\",\n",
    "        value=100,\n",
    "    ),\n",
    "    target_attribute_keys=[\n",
    "        LinkAttributeKey(name=\"user_id\"),\n",
    "        LinkAttributeKey(name=\"domain_userid\"),\n",
    "    ],\n",
    "    owner=\"user@company.com\",\n",
    ")"
   ]
  },
  {
   "cell_type": "markdown",
   "metadata": {},
   "source": [
    "### Publish the interventions\n",
    "\n",
    "Publish the interventions to start processing it."
   ]
  },
  {
   "cell_type": "code",
   "execution_count": null,
   "metadata": {},
   "outputs": [],
   "source": [
    "sp_signals.publish(\n",
    "    [\n",
    "        cart_abandonment_intervention,\n",
    "        discount_intervention,\n",
    "        free_shipping_intervention,\n",
    "    ]\n",
    ")"
   ]
  },
  {
   "cell_type": "code",
   "execution_count": null,
   "metadata": {},
   "outputs": [],
   "source": []
  }
 ],
 "metadata": {
  "kernelspec": {
   "display_name": "Python 3 (ipykernel)",
   "language": "python",
   "name": "python3"
  },
  "language_info": {
   "codemirror_mode": {
    "name": "ipython",
    "version": 3
   },
   "file_extension": ".py",
   "mimetype": "text/x-python",
   "name": "python",
   "nbconvert_exporter": "python",
   "pygments_lexer": "ipython3",
   "version": "3.11.13"
  }
 },
 "nbformat": 4,
 "nbformat_minor": 4
}
