{
 "cells": [
  {
   "cell_type": "markdown",
   "metadata": {},
   "source": [
    "## Test for interventions"
   ]
  },
  {
   "cell_type": "code",
   "execution_count": 4,
   "metadata": {},
   "outputs": [],
   "source": [
    "from snowplow_signals import Signals\n",
    "from dotenv import load_dotenv\n",
    "import os\n",
    "\n",
    "load_dotenv()\n",
    "\n",
    "sp_signals = Signals(\n",
    "    api_url=os.environ[\"SP_API_URL\"],\n",
    "    api_key=os.environ[\"SP_API_KEY\"],\n",
    "    api_key_id=os.environ[\"SP_API_KEY_ID\"],\n",
    "    org_id=os.environ[\"SP_ORG_ID\"],\n",
    ")"
   ]
  },
  {
   "cell_type": "markdown",
   "metadata": {},
   "source": [
    "### Define a new attribute\n",
    "\n",
    "This block creates a single feature definition including the logic how it should be calculated (it's filters and aggregation).\n",
    "\n",
    "The feature calculates the number of add to cart ecommerce events."
   ]
  },
  {
   "cell_type": "code",
   "execution_count": 65,
   "metadata": {},
   "outputs": [],
   "source": [
    "from snowplow_signals import (\n",
    "    Attribute,\n",
    "    Event,\n",
    "    Criterion,\n",
    "    Criteria,\n",
    "    EventProperty,\n",
    "    EntityProperty,\n",
    ")\n",
    "\n",
    "count_product_views = Attribute(\n",
    "    name=\"count_product_views\",\n",
    "    type=\"int32\",\n",
    "    events=[Event(name=\"snowplow_ecommerce_action\")],\n",
    "    criteria=Criteria(\n",
    "        all=[\n",
    "            Criterion.eq(\n",
    "                property=EventProperty(\n",
    "                    vendor=\"com.snowplowanalytics.snowplow.ecommerce\",\n",
    "                    name=\"snowplow_ecommerce_action\",\n",
    "                    major_version=1,\n",
    "                    path=\"type\",\n",
    "                ),\n",
    "                value=\"product_view\",\n",
    "            )\n",
    "        ]\n",
    "    ),\n",
    "    aggregation=\"counter\",\n",
    ")\n",
    "\n",
    "count_add_to_cart = Attribute(\n",
    "    name=\"count_add_to_cart\",\n",
    "    type=\"int32\",\n",
    "    events=[Event(name=\"snowplow_ecommerce_action\")],\n",
    "    criteria=Criteria(\n",
    "        all=[\n",
    "            Criterion.eq(\n",
    "                property=EventProperty(\n",
    "                    vendor=\"com.snowplowanalytics.snowplow.ecommerce\",\n",
    "                    name=\"snowplow_ecommerce_action\",\n",
    "                    major_version=1,\n",
    "                    path=\"type\",\n",
    "                ),\n",
    "                value=\"add_to_cart\",\n",
    "            )\n",
    "        ]\n",
    "    ),\n",
    "    aggregation=\"counter\",\n",
    ")\n",
    "\n",
    "total_cart_value = Attribute(\n",
    "    name=\"total_cart_value\",\n",
    "    type=\"int32\",\n",
    "    events=[Event(name=\"snowplow_ecommerce_action\")],\n",
    "    criteria=Criteria(\n",
    "        all=[\n",
    "            Criterion.eq(\n",
    "                property=EventProperty(\n",
    "                    vendor=\"com.snowplowanalytics.snowplow.ecommerce\",\n",
    "                    name=\"snowplow_ecommerce_action\",\n",
    "                    major_version=1,\n",
    "                    path=\"type\",\n",
    "                ),\n",
    "                value=\"add_to_cart\",\n",
    "            )\n",
    "        ]\n",
    "    ),\n",
    "    property=EntityProperty(\n",
    "        vendor=\"com.snowplowanalytics.snowplow.ecommerce\",\n",
    "        name=\"product\",\n",
    "        major_version=1,\n",
    "        path=\"price\",\n",
    "    ),\n",
    "    aggregation=\"sum\",\n",
    ")\n"
   ]
  },
  {
   "cell_type": "markdown",
   "metadata": {},
   "source": [
    "### Wrapping the attribute in a group\n",
    "\n",
    "All features need to be included in feature views that can be considered as \"tables\" of features.\n",
    "\n",
    "Attribute groups are immutable and versioned."
   ]
  },
  {
   "cell_type": "code",
   "execution_count": 68,
   "metadata": {},
   "outputs": [],
   "source": [
    "from snowplow_signals import StreamView, domain_userid\n",
    "\n",
    "view = StreamView(\n",
    "    name=\"ecom_attributes\",\n",
    "    version=1,\n",
    "    entity=domain_userid,\n",
    "    attributes=[\n",
    "        count_product_views,\n",
    "        count_add_to_cart,\n",
    "        total_cart_value,\n",
    "    ],\n",
    "    owner=\"user@company.com\",\n",
    ")"
   ]
  },
  {
   "cell_type": "markdown",
   "metadata": {},
   "source": [
    "### Testing the view\n",
    "\n",
    "Execute the feature view on the last one hour of data from the atomic events table to verify that it works correctly."
   ]
  },
  {
   "cell_type": "code",
   "execution_count": 69,
   "metadata": {},
   "outputs": [
    {
     "data": {
      "text/html": [
       "<div>\n",
       "<style scoped>\n",
       "    .dataframe tbody tr th:only-of-type {\n",
       "        vertical-align: middle;\n",
       "    }\n",
       "\n",
       "    .dataframe tbody tr th {\n",
       "        vertical-align: top;\n",
       "    }\n",
       "\n",
       "    .dataframe thead th {\n",
       "        text-align: right;\n",
       "    }\n",
       "</style>\n",
       "<table border=\"1\" class=\"dataframe\">\n",
       "  <thead>\n",
       "    <tr style=\"text-align: right;\">\n",
       "      <th></th>\n",
       "      <th>domain_userid</th>\n",
       "      <th>count_product_views</th>\n",
       "      <th>count_add_to_cart</th>\n",
       "      <th>total_cart_value</th>\n",
       "    </tr>\n",
       "  </thead>\n",
       "  <tbody>\n",
       "    <tr>\n",
       "      <th>0</th>\n",
       "      <td>66e7d802-2e75-40ee-8479-74caaaefaf38</td>\n",
       "      <td>0</td>\n",
       "      <td>0</td>\n",
       "      <td>0.0</td>\n",
       "    </tr>\n",
       "    <tr>\n",
       "      <th>1</th>\n",
       "      <td>839743b9-e629-49af-9071-e34430b9bcac</td>\n",
       "      <td>0</td>\n",
       "      <td>0</td>\n",
       "      <td>0.0</td>\n",
       "    </tr>\n",
       "    <tr>\n",
       "      <th>2</th>\n",
       "      <td>9b1de135-cf1f-46cb-a071-33fde0bb5400</td>\n",
       "      <td>0</td>\n",
       "      <td>0</td>\n",
       "      <td>0.0</td>\n",
       "    </tr>\n",
       "    <tr>\n",
       "      <th>3</th>\n",
       "      <td>76401be1-70b9-4ba9-a2c2-a619a73cfbbe</td>\n",
       "      <td>0</td>\n",
       "      <td>0</td>\n",
       "      <td>0.0</td>\n",
       "    </tr>\n",
       "    <tr>\n",
       "      <th>4</th>\n",
       "      <td>1b3870ea-5654-46d9-beb2-6e7c61eb1f56</td>\n",
       "      <td>0</td>\n",
       "      <td>0</td>\n",
       "      <td>0.0</td>\n",
       "    </tr>\n",
       "    <tr>\n",
       "      <th>5</th>\n",
       "      <td>286e398f-7b85-4dad-8451-d49155735b02</td>\n",
       "      <td>0</td>\n",
       "      <td>0</td>\n",
       "      <td>0.0</td>\n",
       "    </tr>\n",
       "    <tr>\n",
       "      <th>6</th>\n",
       "      <td>1f218973-57b4-40a2-a9fe-689490963f27</td>\n",
       "      <td>0</td>\n",
       "      <td>0</td>\n",
       "      <td>0.0</td>\n",
       "    </tr>\n",
       "    <tr>\n",
       "      <th>7</th>\n",
       "      <td>8b1a4ae7-2246-4275-9a9c-19d1012e1c73</td>\n",
       "      <td>0</td>\n",
       "      <td>0</td>\n",
       "      <td>0.0</td>\n",
       "    </tr>\n",
       "    <tr>\n",
       "      <th>8</th>\n",
       "      <td>8412a451-8c85-4645-9fb6-fc73eaa2f6b1</td>\n",
       "      <td>0</td>\n",
       "      <td>0</td>\n",
       "      <td>0.0</td>\n",
       "    </tr>\n",
       "    <tr>\n",
       "      <th>9</th>\n",
       "      <td>7f245827-9062-4d77-862a-a1b50653413b</td>\n",
       "      <td>0</td>\n",
       "      <td>0</td>\n",
       "      <td>0.0</td>\n",
       "    </tr>\n",
       "  </tbody>\n",
       "</table>\n",
       "</div>"
      ],
      "text/plain": [
       "                          domain_userid  count_product_views  \\\n",
       "0  66e7d802-2e75-40ee-8479-74caaaefaf38                    0   \n",
       "1  839743b9-e629-49af-9071-e34430b9bcac                    0   \n",
       "2  9b1de135-cf1f-46cb-a071-33fde0bb5400                    0   \n",
       "3  76401be1-70b9-4ba9-a2c2-a619a73cfbbe                    0   \n",
       "4  1b3870ea-5654-46d9-beb2-6e7c61eb1f56                    0   \n",
       "5  286e398f-7b85-4dad-8451-d49155735b02                    0   \n",
       "6  1f218973-57b4-40a2-a9fe-689490963f27                    0   \n",
       "7  8b1a4ae7-2246-4275-9a9c-19d1012e1c73                    0   \n",
       "8  8412a451-8c85-4645-9fb6-fc73eaa2f6b1                    0   \n",
       "9  7f245827-9062-4d77-862a-a1b50653413b                    0   \n",
       "\n",
       "   count_add_to_cart  total_cart_value  \n",
       "0                  0               0.0  \n",
       "1                  0               0.0  \n",
       "2                  0               0.0  \n",
       "3                  0               0.0  \n",
       "4                  0               0.0  \n",
       "5                  0               0.0  \n",
       "6                  0               0.0  \n",
       "7                  0               0.0  \n",
       "8                  0               0.0  \n",
       "9                  0               0.0  "
      ]
     },
     "execution_count": 69,
     "metadata": {},
     "output_type": "execute_result"
    }
   ],
   "source": [
    "sp_signals.test(view=view)"
   ]
  },
  {
   "cell_type": "markdown",
   "metadata": {},
   "source": [
    "# Wrap the attribute group in a service"
   ]
  },
  {
   "cell_type": "code",
   "execution_count": 70,
   "metadata": {},
   "outputs": [],
   "source": [
    "from snowplow_signals import Service\n",
    "\n",
    "service = Service(\n",
    "    name=\"ecom_attributes\",\n",
    "    views=[view],\n",
    "    owner=\"user@company.com\",\n",
    ")"
   ]
  },
  {
   "cell_type": "markdown",
   "metadata": {},
   "source": [
    "# Publish the attribute group and service\n",
    "\n",
    "Pulbish the attribute group to start processing it."
   ]
  },
  {
   "cell_type": "code",
   "execution_count": 71,
   "metadata": {},
   "outputs": [
    {
     "data": {
      "text/plain": [
       "[View(name='ecom_attributes', version=1, entity=Entity(name='domain_userid', description=None, key=None, tags=None, owner=None, ttl=None), ttl=None, batch_source=None, online=True, offline=False, description=None, tags=None, owner='user@company.com', fields=[], attributes=[AttributeInput(name='count_product_views', description=None, type='int32', tags=None, events=[Event(name='snowplow_ecommerce_action', vendor=None, version=None)], aggregation='counter', property_syntax='snowflake', property=None, criteria=Criteria(all=[SignalsApiModelsViewCriterionCriterion(property_syntax='snowflake', property='unstruct_event_com_snowplowanalytics_snowplow_ecommerce_snowplow_ecommerce_action_1:type', operator='=', value='product_view')], any=None), period=None, default_value=None), AttributeInput(name='count_add_to_cart', description=None, type='int32', tags=None, events=[Event(name='snowplow_ecommerce_action', vendor=None, version=None)], aggregation='counter', property_syntax='snowflake', property=None, criteria=Criteria(all=[SignalsApiModelsViewCriterionCriterion(property_syntax='snowflake', property='unstruct_event_com_snowplowanalytics_snowplow_ecommerce_snowplow_ecommerce_action_1:type', operator='=', value='add_to_cart')], any=None), period=None, default_value=None), AttributeInput(name='total_cart_value', description=None, type='int32', tags=None, events=[Event(name='snowplow_ecommerce_action', vendor=None, version=None)], aggregation='sum', property_syntax='snowflake', property='contexts_com_snowplowanalytics_snowplow_ecommerce_product_1[0].price', criteria=Criteria(all=[SignalsApiModelsViewCriterionCriterion(property_syntax='snowflake', property='unstruct_event_com_snowplowanalytics_snowplow_ecommerce_snowplow_ecommerce_action_1:type', operator='=', value='add_to_cart')], any=None), period=None, default_value=None)]),\n",
       " Service(name='ecom_attributes', description=None, views=[VersionedLinkView(name='ecom_attributes', version=1)], tags=None, owner='user@company.com')]"
      ]
     },
     "execution_count": 71,
     "metadata": {},
     "output_type": "execute_result"
    }
   ],
   "source": [
    "sp_signals.apply([view, service])"
   ]
  },
  {
   "cell_type": "markdown",
   "metadata": {},
   "source": [
    "# Retrieve attributes for the service"
   ]
  },
  {
   "cell_type": "code",
   "execution_count": 80,
   "metadata": {},
   "outputs": [
    {
     "data": {
      "text/plain": [
       "{'domain_userid': 'be240d67-f4bf-4f66-9b19-0338a31c1c17',\n",
       " 'count_add_to_cart': 1,\n",
       " 'count_product_views': 3,\n",
       " 'total_cart_value': 12.99}"
      ]
     },
     "execution_count": 80,
     "metadata": {},
     "output_type": "execute_result"
    }
   ],
   "source": [
    "service.get_attributes(\n",
    "    signals=sp_signals,\n",
    "    entity=\"domain_userid\",\n",
    "    identifier=\"be240d67-f4bf-4f66-9b19-0338a31c1c17\",\n",
    ")"
   ]
  },
  {
   "cell_type": "code",
   "execution_count": 74,
   "metadata": {},
   "outputs": [],
   "source": [
    "from snowplow_signals import (\n",
    "    RuleIntervention,\n",
    "    InterventionCriterion,\n",
    ")\n",
    "\n",
    "cart_abandonment_intervention = RuleIntervention(\n",
    "    name=\"cart_abandonment\",\n",
    "    description=\"Show banner to users who have added at least one item to cart.\",\n",
    "    method=\"remote_agent\",\n",
    "    criteria=InterventionCriterion(\n",
    "        attribute=\"ecom_attributes:count_add_to_cart\",\n",
    "        operator=\">\",\n",
    "        value=0,\n",
    "    ),\n",
    "    owner=\"user@company.com\",\n",
    ")\n",
    "\n",
    "discount_intervention = RuleIntervention(\n",
    "    name=\"discount\",\n",
    "    description=\"Show banner to users who have viewed more than 3 products.\",\n",
    "    method=\"remote_agent\",\n",
    "    criteria=InterventionCriterion(\n",
    "        attribute=\"ecom_attributes:count_product_views\",\n",
    "        operator=\">\",\n",
    "        value=3,\n",
    "    ),\n",
    "    owner=\"user@company.com\",\n",
    ")\n",
    "\n",
    "free_shipping_intervention = RuleIntervention(\n",
    "    name=\"free_shipping\",\n",
    "    description=\"Show banner to users who have spent at least $50.\",\n",
    "    method=\"remote_agent\",\n",
    "    criteria=InterventionCriterion(\n",
    "        attribute=\"ecom_attributes:total_cart_value\",\n",
    "        operator=\">\",\n",
    "        value=100,\n",
    "    ),\n",
    "    owner=\"user@company.com\",\n",
    ")\n"
   ]
  },
  {
   "cell_type": "markdown",
   "metadata": {},
   "source": [
    "### Apply the intervention"
   ]
  },
  {
   "cell_type": "code",
   "execution_count": 75,
   "metadata": {},
   "outputs": [
    {
     "data": {
      "text/plain": [
       "[RuleIntervention(name='cart_abandonment', version=1, method='remote_agent', target_agents=None, script_uri=None, context={}, description='Show banner to users who have added at least one item to cart.', tags=None, owner='user@company.com', criteria=SignalsApiModelsInterventionCriterionCriterion(attribute='ecom_attributes:count_add_to_cart', operator='>', value=0)),\n",
       " RuleIntervention(name='discount', version=1, method='remote_agent', target_agents=None, script_uri=None, context={}, description='Show banner to users who have viewed more than 3 products.', tags=None, owner='user@company.com', criteria=SignalsApiModelsInterventionCriterionCriterion(attribute='ecom_attributes:count_product_views', operator='>', value=3)),\n",
       " RuleIntervention(name='free_shipping', version=1, method='remote_agent', target_agents=None, script_uri=None, context={}, description='Show banner to users who have spent at least $50.', tags=None, owner='user@company.com', criteria=SignalsApiModelsInterventionCriterionCriterion(attribute='ecom_attributes:total_cart_value', operator='>', value=100))]"
      ]
     },
     "execution_count": 75,
     "metadata": {},
     "output_type": "execute_result"
    }
   ],
   "source": [
    "sp_signals.apply(\n",
    "    [\n",
    "        cart_abandonment_intervention,\n",
    "        discount_intervention,\n",
    "        free_shipping_intervention,\n",
    "    ]\n",
    ")\n"
   ]
  }
 ],
 "metadata": {
  "kernelspec": {
   "display_name": "venv",
   "language": "python",
   "name": "python3"
  },
  "language_info": {
   "codemirror_mode": {
    "name": "ipython",
    "version": 3
   },
   "file_extension": ".py",
   "mimetype": "text/x-python",
   "name": "python",
   "nbconvert_exporter": "python",
   "pygments_lexer": "ipython3",
   "version": "3.11.7"
  }
 },
 "nbformat": 4,
 "nbformat_minor": 2
}
