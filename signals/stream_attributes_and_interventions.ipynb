{
 "cells": [
  {
   "cell_type": "markdown",
   "metadata": {},
   "source": [
    "## Test for interventions"
   ]
  },
  {
   "cell_type": "code",
   "execution_count": null,
   "metadata": {},
   "outputs": [],
   "source": [
    "from snowplow_signals import Signals\n",
    "from dotenv import load_dotenv\n",
    "import os\n",
    "\n",
    "load_dotenv()\n",
    "\n",
    "sp_signals = Signals(\n",
    "    api_url=os.environ[\"SP_API_URL\"],\n",
    "    api_key=os.environ[\"SP_API_KEY\"],\n",
    "    api_key_id=os.environ[\"SP_API_KEY_ID\"],\n",
    "    org_id=os.environ[\"SP_ORG_ID\"],\n",
    ")"
   ]
  },
  {
   "cell_type": "markdown",
   "metadata": {},
   "source": [
    "### Define a new attribute\n",
    "\n",
    "This block creates a single feature definition including the logic how it should be calculated (it's filters and aggregation).\n",
    "\n",
    "The feature calculates the number of add to cart ecommerce events."
   ]
  },
  {
   "cell_type": "code",
   "execution_count": null,
   "metadata": {},
   "outputs": [],
   "source": [
    "from snowplow_signals import (\n",
    "    Attribute,\n",
    "    Event,\n",
    "    Criterion,\n",
    "    Criteria,\n",
    "    EventProperty,\n",
    "    EntityProperty,\n",
    ")\n",
    "\n",
    "count_product_views = Attribute(\n",
    "    name=\"count_product_views\",\n",
    "    type=\"int32\",\n",
    "    events=[Event(name=\"snowplow_ecommerce_action\")],\n",
    "    criteria=Criteria(\n",
    "        all=[\n",
    "            Criterion.eq(\n",
    "                property=EventProperty(\n",
    "                    vendor=\"com.snowplowanalytics.snowplow.ecommerce\",\n",
    "                    name=\"snowplow_ecommerce_action\",\n",
    "                    major_version=1,\n",
    "                    path=\"type\",\n",
    "                ),\n",
    "                value=\"product_view\",\n",
    "            )\n",
    "        ]\n",
    "    ),\n",
    "    aggregation=\"counter\",\n",
    ")\n",
    "\n",
    "count_add_to_cart = Attribute(\n",
    "    name=\"count_add_to_cart\",\n",
    "    type=\"int32\",\n",
    "    events=[Event(name=\"snowplow_ecommerce_action\")],\n",
    "    criteria=Criteria(\n",
    "        all=[\n",
    "            Criterion.eq(\n",
    "                property=EventProperty(\n",
    "                    vendor=\"com.snowplowanalytics.snowplow.ecommerce\",\n",
    "                    name=\"snowplow_ecommerce_action\",\n",
    "                    major_version=1,\n",
    "                    path=\"type\",\n",
    "                ),\n",
    "                value=\"add_to_cart\",\n",
    "            )\n",
    "        ]\n",
    "    ),\n",
    "    aggregation=\"counter\",\n",
    ")\n",
    "\n",
    "total_cart_value = Attribute(\n",
    "    name=\"total_cart_value\",\n",
    "    type=\"int32\",\n",
    "    events=[Event(name=\"snowplow_ecommerce_action\")],\n",
    "    criteria=Criteria(\n",
    "        all=[\n",
    "            Criterion.eq(\n",
    "                property=EventProperty(\n",
    "                    vendor=\"com.snowplowanalytics.snowplow.ecommerce\",\n",
    "                    name=\"snowplow_ecommerce_action\",\n",
    "                    major_version=1,\n",
    "                    path=\"type\",\n",
    "                ),\n",
    "                value=\"add_to_cart\",\n",
    "            )\n",
    "        ]\n",
    "    ),\n",
    "    property=EntityProperty(\n",
    "        vendor=\"com.snowplowanalytics.snowplow.ecommerce\",\n",
    "        name=\"product\",\n",
    "        major_version=1,\n",
    "        path=\"price\",\n",
    "    ),\n",
    "    aggregation=\"sum\",\n",
    ")\n"
   ]
  },
  {
   "cell_type": "markdown",
   "metadata": {},
   "source": [
    "### Wrapping the attribute in a group\n",
    "\n",
    "All features need to be included in feature views that can be considered as \"tables\" of features.\n",
    "\n",
    "Attribute groups are immutable and versioned."
   ]
  },
  {
   "cell_type": "code",
   "execution_count": null,
   "metadata": {},
   "outputs": [],
   "source": [
    "from snowplow_signals import StreamAttributeGroup, domain_userid\n",
    "\n",
    "attribute_group = StreamAttributeGroup(\n",
    "    name=\"ecom_attributes\",\n",
    "    version=1,\n",
    "    attribute_key=domain_userid,\n",
    "    attributes=[\n",
    "        count_product_views,\n",
    "        count_add_to_cart,\n",
    "        total_cart_value,\n",
    "    ],\n",
    "    owner=\"user@company.com\",\n",
    ")"
   ]
  },
  {
   "cell_type": "markdown",
   "metadata": {},
   "source": [
    "### Testing the attribute group\n",
    "\n",
    "Execute the attribute group on the last one hour of data from the atomic events table to verify that it works correctly."
   ]
  },
  {
   "cell_type": "code",
   "execution_count": null,
   "metadata": {},
   "outputs": [],
   "source": [
    "sp_signals.test(attribute_group=attribute_group)"
   ]
  },
  {
   "cell_type": "markdown",
   "metadata": {},
   "source": [
    "# Wrap the attribute group in a service"
   ]
  },
  {
   "cell_type": "code",
   "execution_count": null,
   "metadata": {},
   "outputs": [],
   "source": [
    "from snowplow_signals import Service\n",
    "\n",
    "service = Service(\n",
    "    name=\"ecom_attributes\",\n",
    "    attribute_groups=[attribute_group],\n",
    "    owner=\"user@company.com\",\n",
    ")"
   ]
  },
  {
   "cell_type": "markdown",
   "metadata": {},
   "source": [
    "# Publish the attribute group and service\n",
    "\n",
    "Pulbish the attribute group to start processing it."
   ]
  },
  {
   "cell_type": "code",
   "execution_count": null,
   "metadata": {},
   "outputs": [],
   "source": [
    "sp_signals.publish([attribute_group, service])"
   ]
  },
  {
   "cell_type": "markdown",
   "metadata": {},
   "source": [
    "# Retrieve attributes for the service"
   ]
  },
  {
   "cell_type": "code",
   "execution_count": null,
   "metadata": {},
   "outputs": [],
   "source": [
    "service.get_attributes(\n",
    "    signals=sp_signals,\n",
    "    attribute_key=\"domain_userid\",\n",
    "    identifier=\"be240d67-f4bf-4f66-9b19-0338a31c1c17\",\n",
    ")"
   ]
  },
  {
   "cell_type": "code",
   "execution_count": 10,
   "metadata": {},
   "outputs": [],
   "source": [
    "from snowplow_signals import (\n",
    "    RuleIntervention,\n",
    "    InterventionCriterion,\n",
    ")\n",
    "\n",
    "cart_abandonment_intervention = RuleIntervention(\n",
    "    name=\"cart_abandonment\",\n",
    "    description=\"Show banner to users who have added at least one item to cart.\",\n",
    "    criteria=InterventionCriterion(\n",
    "        attribute=\"ecom_attributes:count_add_to_cart\",\n",
    "        operator=\">\",\n",
    "        value=0,\n",
    "    ),\n",
    "    owner=\"user@company.com\",\n",
    ")\n",
    "\n",
    "discount_intervention = RuleIntervention(\n",
    "    name=\"discount\",\n",
    "    description=\"Show banner to users who have viewed more than 3 products.\",\n",
    "    criteria=InterventionCriterion(\n",
    "        attribute=\"ecom_attributes:count_product_views\",\n",
    "        operator=\">\",\n",
    "        value=3,\n",
    "    ),\n",
    "    owner=\"user@company.com\",\n",
    ")\n",
    "\n",
    "free_shipping_intervention = RuleIntervention(\n",
    "    name=\"free_shipping\",\n",
    "    description=\"Show banner to users who have spent at least $50.\",\n",
    "    criteria=InterventionCriterion(\n",
    "        attribute=\"ecom_attributes:total_cart_value\",\n",
    "        operator=\">\",\n",
    "        value=100,\n",
    "    ),\n",
    "    owner=\"user@company.com\",\n",
    ")\n"
   ]
  },
  {
   "cell_type": "markdown",
   "metadata": {},
   "source": [
    "### Apply the intervention"
   ]
  },
  {
   "cell_type": "code",
   "execution_count": null,
   "metadata": {},
   "outputs": [],
   "source": [
    "sp_signals.publish(\n",
    "    [\n",
    "        cart_abandonment_intervention,\n",
    "        discount_intervention,\n",
    "        free_shipping_intervention,\n",
    "    ]\n",
    ")\n"
   ]
  }
 ],
 "metadata": {
  "kernelspec": {
   "display_name": "venv",
   "language": "python",
   "name": "python3"
  },
  "language_info": {
   "codemirror_mode": {
    "name": "ipython",
    "version": 3
   },
   "file_extension": ".py",
   "mimetype": "text/x-python",
   "name": "python",
   "nbconvert_exporter": "python",
   "pygments_lexer": "ipython3",
   "version": "3.11.7"
  }
 },
 "nbformat": 4,
 "nbformat_minor": 2
}
